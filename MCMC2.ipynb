{
  "cells": [
    {
      "cell_type": "code",
      "execution_count": 15,
      "id": "d8b27282",
      "metadata": {
        "id": "d8b27282"
      },
      "outputs": [],
      "source": [
        "#%%\n",
        "import numpy as np\n",
        "import matplotlib.pyplot as plt\n",
        "import math\n",
        "#%%\n",
        "data=np.loadtxt(\"eddington.txt\",skiprows=1).T   #inputing the file here\n",
        "#print(data)\n",
        "x=data[0]\n",
        "y=data[1]\n",
        "Ex=data[2]\n",
        "Ey=data[3]\n",
        "Dx=data[4]\n",
        "Dy=data[5]\n",
        "\n",
        "a0,b0,c0,d0,e0,f0,alpha0 = np.random.normal(0,1,7)\n",
        "da=np.loadtxt(\"eddington.txt\",skiprows=1).T\n",
        "x = da[0]\n",
        "y = da[1]\n",
        "Ex = da[2]\n",
        "Ey = da[3]\n",
        "Dx = da[4]\n",
        "Dy = da[5]\n",
        "#%%\n",
        "def dx(a,b,c,x,y,Ex,alpha):  \n",
        "    return a*x + b*y + c + alpha*Ex\n",
        "def dy(d,e,f,x,y,Ey,alpha):\n",
        "    return d*x + e*y + f + alpha*Ey\n",
        "def loglikelihood(a,b,c,d,e,f,alpha,x,y,Ex,Ey):    \n",
        "    s = 0.05\n",
        "    s_1 = 1/(math.sqrt(2*math.pi)*s)\n",
        "    g = 0\n",
        "    for i in range(7):\n",
        "        L = (-0.5*((Dx[i] - dx(a,b,c,x[i],y[i],Ex[i],alpha))**2)/s**2) + (-0.5*((Dy[i] - dy(d,e,f,x[i],y[i],Ey[i],alpha))**2)/s**2) + np.log(1/(2*np.pi*s**2))\n",
        "        g = g + L \n",
        "    return g   \n",
        "#%%\n",
        "def M_chain(steps,sigma):\n",
        "    \n",
        "    a_vals = np.zeros(steps)\n",
        "    b_vals = np.zeros(steps)\n",
        "    c_vals = np.zeros(steps)\n",
        "    d_vals = np.zeros(steps)\n",
        "    e_vals = np.zeros(steps)\n",
        "    f_vals = np.zeros(steps)\n",
        "    alpha_vals=np.zeros(steps)\n",
        "    burn_in = int(0.1*steps)\n",
        "    \n",
        "    \n",
        "    \n",
        "    a_vals[0] = a0\n",
        "    b_vals[0] = b0\n",
        "    c_vals[0] = c0\n",
        "    d_vals[0] = d0\n",
        "    e_vals[0] = e0\n",
        "    f_vals[0] = f0\n",
        "    alpha_vals[0] = alpha0 \n",
        "    acceptance=0\n",
        "\n",
        "    for i in range(1,steps):\n",
        "        \n",
        "        a = np.random.normal(a_vals[i-1],sigma)\n",
        "        b = np.random.normal(b_vals[i-1],sigma)\n",
        "        c = np.random.normal(c_vals[i-1],sigma)\n",
        "        d = np.random.normal(d_vals[i-1],sigma)\n",
        "        e = np.random.normal(e_vals[i-1],sigma)\n",
        "        f = np.random.normal(f_vals[i-1],sigma)\n",
        "        alpha = np.random.normal(alpha_vals[i-1],sigma)\n",
        "        \n",
        "        p1=loglikelihood(a_vals[i-1],b_vals[i-1],c_vals[i-1],d_vals[i-1],e_vals[i-1],f_vals[i-1],alpha_vals[i-1],x,y,Ex,Ey)\n",
        "        \n",
        "        if alpha<0:\n",
        "            p2 = -np.inf\n",
        "        else:\n",
        "            p2 = loglikelihood(a,b,c,d,e,f,alpha,x,y,Ex,Ey)\n",
        "    \n",
        "       \n",
        "    \n",
        "        accep_prob  = min(1,np.exp(p2-p1))\n",
        "        u = np.random.rand(1)[0]\n",
        "        if u<accep_prob:\n",
        "            a_vals[i],b_vals[i],c_vals[i],d_vals[i],e_vals[i],f_vals[i],alpha_vals[i]=a,b,c,d,e,f,alpha\n",
        "            acceptance=acceptance+1\n",
        "        else:\n",
        "            a_vals[i],b_vals[i],c_vals[i],d_vals[i],e_vals[i],f_vals[i],alpha_vals[i] = a_vals[i-1],b_vals[i-1],c_vals[i-1],d_vals[i-1],e_vals[i-1],f_vals[i-1],alpha_vals[i-1]\n",
        "    plt.hist(alpha_vals[burn_in:],bins=50)\n",
        "    plt.xlabel('alpha_value', fontsize='15')\n",
        "    plt.ylabel('Frequency', fontsize='15')\n",
        "    return alpha_vals[burn_in:]\n",
        "    #%%\n",
        "    "
      ]
    },
    {
      "cell_type": "code",
      "execution_count": 16,
      "id": "755ea415",
      "metadata": {
        "colab": {
          "base_uri": "https://localhost:8080/",
          "height": 303
        },
        "id": "755ea415",
        "outputId": "16f486ca-fe95-4fc5-c1d8-f95030931bad"
      },
      "outputs": [
        {
          "output_type": "stream",
          "name": "stdout",
          "text": [
            "[0.20400659 0.20400659 0.20400659 ... 0.1154559  0.10909766 0.10909766]\n"
          ]
        },
        {
          "output_type": "display_data",
          "data": {
            "text/plain": [
              "<Figure size 432x288 with 1 Axes>"
            ],
            "image/png": "[encoded data removed]"
          },
          "metadata": {
            "needs_background": "light"
          }
        }
      ],
      "source": [
        "M=M_chain(10000,0.01)\n",
        "print(M)\n"
      ]
    },
    {
      "cell_type": "code",
      "execution_count": 17,
      "id": "c1befe50",
      "metadata": {
        "colab": {
          "base_uri": "https://localhost:8080/"
        },
        "id": "c1befe50",
        "outputId": "fa5733e7-7df5-4062-c69f-4e6603c3c28c"
      },
      "outputs": [
        {
          "output_type": "stream",
          "name": "stdout",
          "text": [
            "The mean value of alpha parameter is 0.138943990309901\n",
            "The mean value of theta is 2.75109100813604\n"
          ]
        }
      ],
      "source": [
        "theta=19.8*np.mean(M)\n",
        "print(\"The mean value of alpha parameter is\", np.mean(M))\n",
        "print(\"The mean value of theta is\",theta)"
      ]
    },
    {
      "cell_type": "code",
      "execution_count": 18,
      "id": "9fb40ee3",
      "metadata": {
        "id": "9fb40ee3"
      },
      "outputs": [],
      "source": [
        "#"
      ]
    },
    {
      "cell_type": "code",
      "execution_count": 18,
      "id": "c483ef61",
      "metadata": {
        "id": "c483ef61"
      },
      "outputs": [],
      "source": []
    }
  ],
  "metadata": {
    "kernelspec": {
      "display_name": "Python 3 (ipykernel)",
      "language": "python",
      "name": "python3"
    },
    "language_info": {
      "codemirror_mode": {
        "name": "ipython",
        "version": 3
      },
      "file_extension": ".py",
      "mimetype": "text/x-python",
      "name": "python",
      "nbconvert_exporter": "python",
      "pygments_lexer": "ipython3",
      "version": "3.9.12"
    },
    "colab": {
      "provenance": []
    }
  },
  "nbformat": 4,
  "nbformat_minor": 5
}